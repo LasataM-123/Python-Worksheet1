{
  "cells": [
    {
      "cell_type": "markdown",
      "metadata": {
        "id": "1xW5maRblwaj"
      },
      "source": [
        "#4 TO - DO - Task\n",
        "Please complete all the problem listed below.\n",
        "4.1 Warming Up Exercise: Basic Vector and Matrix Operation with Numpy.\n",
        "Problem - 1: Array Creation:\n",
        "Complete the following Tasks:\n",
        "1. Initialize an empty array with size 2X2.\n",
        "2. Initialize an all one array with size 4X2.\n",
        "3. Return a new array of given shape and type, filled with fill value.{Hint: np.full}\n",
        "4. Return a new array of zeros with same shape and type as a given array.{Hint: np.zeros like}\n",
        "5. Return a new array of ones with same shape and type as a given array.{Hint: np.ones like}\n",
        "6. For an existing list new_list = [1,2,3,4] convert to an numpy array.{Hint: np.array()}"
      ]
    },
    {
      "cell_type": "code",
      "execution_count": null,
      "metadata": {
        "colab": {
          "base_uri": "https://localhost:8080/"
        },
        "id": "KUZtiX6IlB4v",
        "outputId": "ceb967e9-a281-4721-bba0-7e0d1db8e76c"
      },
      "outputs": [
        {
          "name": "stdout",
          "output_type": "stream",
          "text": [
            "Empty array:  [[4.94806921e-310 0.00000000e+000]\n",
            " [1.33511018e-306 1.33511562e-306]]\n",
            "All one array:  [[1. 1.]\n",
            " [1. 1.]\n",
            " [1. 1.]\n",
            " [1. 1.]]\n",
            "Array filled with fill value:  [[7 7]\n",
            " [7 7]]\n",
            "Array of zeros with same shape and type as a given array:  [[0 0 0]\n",
            " [0 0 0]]\n",
            "Array of ones with same shape and type as a given array:  [[1 1 1]\n",
            " [1 1 1]]\n",
            "List converted to array:  [1 2 3 4]\n"
          ]
        }
      ],
      "source": [
        "import numpy as np\n",
        "#1. Creating an empty array with size 2x2\n",
        "empty_arr=np.empty((2,2))\n",
        "print(\"Empty array: \",empty_arr)\n",
        "\n",
        "#2. Creating an all one array with size 4x2\n",
        "one_arr=np.ones((4,2))\n",
        "print(\"All one array: \",one_arr)\n",
        "\n",
        "#3. Creating a new array of given shape and type,filled with fill value\n",
        "fill_arr=np.full((2,2),7)\n",
        "print(\"Array filled with fill value: \",fill_arr)\n",
        "\n",
        "#4. Creating a new array of zeros with same shape and type as a given array\n",
        "given_array=np.array([[1,2,3],[4,5,6]])\n",
        "zeros_array=np.zeros_like(given_array)\n",
        "print(\"Array of zeros with same shape and type as a given array: \",zeros_array)\n",
        "\n",
        "#5. Creating a new array of ones with same shape and type as a given array\n",
        "ones_array=np.ones_like(given_array)\n",
        "print(\"Array of ones with same shape and type as a given array: \",ones_array)\n",
        "\n",
        "#6. Converting an existing list to a numpy array\n",
        "new_list=[1,2,3,4]\n",
        "list_to_array=np.array(new_list)\n",
        "print(\"List converted to array: \",list_to_array)\n",
        "\n",
        "\n",
        "\n"
      ]
    },
    {
      "cell_type": "markdown",
      "metadata": {
        "id": "H2upxwWEo1aB"
      },
      "source": [
        "#4.1.1 Problem - 2: Array Manipulation: Numerical Ranges and Array indexing:\n",
        "Complete the following tasks:\n",
        "1. Create an array with values ranging from 10 to 49. {Hint:np.arrange()}.\n",
        "2. Create a 3X3 matrix with values ranging from 0 to 8.\n",
        "{Hint:look for np.reshape()}\n",
        "3. Create a 3X3 identity matrix.{Hint:np.eye()}\n",
        "4. Create a random array of size 30 and find the mean of the array.\n",
        "{Hint:check for np.random.random() and array.mean() function}\n",
        "5. Create a 10X10 array with random values and find the minimum and maximum values.\n",
        "6. Create a zero array of size 10 and replace 5th element with 1.\n",
        "7. Reverse an array arr = [1,2,0,0,4,0].\n",
        "8. Create a 2d array with 1 on border and 0 inside.\n",
        "9. Create a 8X8 matrix and fill it with a checkerboard pattern."
      ]
    },
    {
      "cell_type": "code",
      "execution_count": 5,
      "metadata": {
        "colab": {
          "base_uri": "https://localhost:8080/"
        },
        "id": "K6Xfdi9KmaZa",
        "outputId": "4854c760-9fb8-4c08-aaa5-254157f67c73"
      },
      "outputs": [
        {
          "output_type": "stream",
          "name": "stdout",
          "text": [
            "Array with values ranging from 10 to 49:  [10 11 12 13 14 15 16 17 18 19 20 21 22 23 24 25 26 27 28 29 30 31 32 33\n",
            " 34 35 36 37 38 39 40 41 42 43 44 45 46 47 48 49]\n",
            "3x3 matix with values ranging from 0 to 8:  [[0 1 2]\n",
            " [3 4 5]\n",
            " [6 7 8]]\n",
            "Identity matrix of 3x3:  [[1. 0. 0.]\n",
            " [0. 1. 0.]\n",
            " [0. 0. 1.]]\n",
            "Mean of the array:  0.501475116916289\n",
            "Minimum value=  1.3861520179458964e-05  and Maximum value=  0.9951708386649198\n",
            "Zero array with 1 as its 5th element:  [0. 0. 0. 0. 1. 0. 0. 0. 0. 0.]\n",
            "Reversed array:  [0 4 0 0 2 1]\n",
            "Original array:  [[0. 0.]\n",
            " [0. 0.]]\n",
            "Array with 1 on border and 0 inside:  [[1. 1. 1. 1.]\n",
            " [1. 0. 0. 1.]\n",
            " [1. 0. 0. 1.]\n",
            " [1. 1. 1. 1.]]\n",
            "Checkerboard_arr: \n",
            " [[0 1 0 1 0 1 0 1]\n",
            " [1 0 1 0 1 0 1 0]\n",
            " [0 1 0 1 0 1 0 1]\n",
            " [1 0 1 0 1 0 1 0]\n",
            " [0 1 0 1 0 1 0 1]\n",
            " [1 0 1 0 1 0 1 0]\n",
            " [0 1 0 1 0 1 0 1]\n",
            " [1 0 1 0 1 0 1 0]]\n"
          ]
        }
      ],
      "source": [
        "import numpy as np\n",
        "\n",
        "#1. Creating an array with values ranging from 10 to 49\n",
        "arr=np.arange(10,50)\n",
        "print(\"Array with values ranging from 10 to 49: \",arr)\n",
        "\n",
        "#2. Creating a 3x3 matrix with values ranging from 0 to 8\n",
        "x=np.arange(0,9).reshape((3,3))\n",
        "print(\"3x3 matix with values ranging from 0 to 8: \",x)\n",
        "\n",
        "#3. Creating a 3x3 identity matrix\n",
        "i=np.eye(3,3)\n",
        "print(\"Identity matrix of 3x3: \",i)\n",
        "\n",
        "#4. Creating a ranodm array of size 30 and finding the mean of the array\n",
        "random_arr=np.random.random(30)\n",
        "mean=random_arr.mean()\n",
        "print(\"Mean of the array: \",mean)\n",
        "\n",
        "#5. Creating a 10x10 array with random values and finding the minimum and maximum values\n",
        "array=np.random.random((10,10))\n",
        "min_value=array.min()\n",
        "max_value=array.max()\n",
        "print(\"Minimum value= \",min_value,\" and Maximum value= \",max_value)\n",
        "\n",
        "#6. Creating a zero array of size 10 and replacing 5th element with 1.\n",
        "zero_arr=np.zeros(10)\n",
        "zero_arr[4]=1\n",
        "print(\"Zero array with 1 as its 5th element: \",zero_arr)\n",
        "\n",
        "#7. Reversing an array\n",
        "arr = [1,2,0,0,4,0]\n",
        "reversed_arr=np.array(arr)[::-1]\n",
        "print(\"Reversed array: \",reversed_arr)\n",
        "\n",
        "#8. Creating a 2d array with 1 on border and 0 inside.\n",
        "array=np.zeros((2,2))\n",
        "print(\"Original array: \",array)\n",
        "bordered_array=np.pad(array,pad_width=1,mode='constant',constant_values=1)\n",
        "print(\"Array with 1 on border and 0 inside: \",bordered_array)\n",
        "\n",
        "#9. Creating a 8X8 matrix and fill it with a checkerboard pattern.\n",
        "checkerboard_arr = np.indices((8, 8)).sum(axis=0) % 2\n",
        "print(\"Checkerboard_arr: \\n\", checkerboard_arr)"
      ]
    },
    {
      "cell_type": "markdown",
      "metadata": {
        "id": "07GXrOSKhf70"
      },
      "source": [
        "#Problem - 3: Array Operations:\n",
        "For the following arrays:\n",
        "x = np.array([[1,2],[3,5]]) and y = np.array([[5,6],[7,8]]);\n",
        "v = np.array([9,10]) and w = np.array([11,12]);\n",
        "Complete all the task using numpy:\n",
        "1. Add the two array.\n",
        "2. Subtract the two array.\n",
        "3. Multiply the array with any integers of your choice.\n",
        "4. Find the square of each element of the array.\n",
        "5. Find the dot product between: v(and)w ; x(and)v ; x(and)y.\n",
        "6. Concatenate x(and)y along row and Concatenate v(and)w along column.\n",
        "{Hint:try np.concatenate() or np.vstack() functions.\n",
        "7. Concatenate x(and)v; if you get an error, observe and explain why did you get the error?"
      ]
    },
    {
      "cell_type": "code",
      "execution_count": null,
      "metadata": {
        "colab": {
          "base_uri": "https://localhost:8080/"
        },
        "id": "4rO0YBbmqnsp",
        "outputId": "92fdc1ee-e087-4dc2-de58-280803074dc4"
      },
      "outputs": [
        {
          "name": "stdout",
          "output_type": "stream",
          "text": [
            "The result after adding arrays x and y:  [[ 6  8]\n",
            " [10 13]]\n",
            "The result after subtracting w from v:  [-2 -2]\n",
            "The result after multiplying x with 3:  [[ 3  6]\n",
            " [ 9 15]]\n",
            "The result obtained by finding square of each element of the array y:  [[25 36]\n",
            " [49 64]]\n",
            "Dot product of v and w:  219\n",
            "Dot product of x and v:  [29 77]\n",
            "Dot product of x and y:  [[19 22]\n",
            " [50 58]]\n",
            "Concatenating x and y along row=  [[1 2]\n",
            " [3 5]\n",
            " [5 6]\n",
            " [7 8]]\n",
            "Concatenating v and w along column=  [[1 2 5 6]\n",
            " [3 5 7 8]]\n"
          ]
        }
      ],
      "source": [
        "import numpy as np\n",
        "\n",
        "#Provided arrays\n",
        "x = np.array([[1,2],[3,5]])\n",
        "y = np.array([[5,6],[7,8]])\n",
        "v = np.array([9,10])\n",
        "w = np.array([11,12])\n",
        "\n",
        "#1. Adding array x and y\n",
        "array_sum=np.add(x,y)\n",
        "print(\"The result after adding arrays x and y: \",array_sum)\n",
        "\n",
        "#2. Subtracting array w from v\n",
        "array_subtract=np.subtract(v,w)\n",
        "print(\"The result after subtracting w from v: \",array_subtract)\n",
        "\n",
        "#3. Multiplying array x with 3\n",
        "array_multiply=x*3\n",
        "print(\"The result after multiplying x with 3: \",array_multiply)\n",
        "\n",
        "#4. Finding square of each element of the array y\n",
        "array_square=y*y\n",
        "print(\"The result obtained by finding square of each element of the array y: \",array_square)\n",
        "\n",
        "#5. Finding dot product\n",
        "v_w=np.dot(v,w)\n",
        "x_v=np.dot(x,v)\n",
        "x_y=np.dot(x,y)\n",
        "print(\"Dot product of v and w: \",v_w)\n",
        "print(\"Dot product of x and v: \",x_v)\n",
        "print(\"Dot product of x and y: \",x_y)\n",
        "\n",
        "#6. Concatenating x(and)y along row and Concatenating v(and)w along column.\n",
        "concat_x_y=np.concatenate((x,y),axis=0) #or np.vstack((x,y))\n",
        "concat_v_w=np.concatenate((x,y),axis=1) #or np.hstack((v,w))\n",
        "print(\"Concatenating x and y along row= \",concat_x_y)\n",
        "print(\"Concatenating v and w along column= \",concat_v_w)\n",
        "\n",
        "#7. Concatenating x(and)v\n",
        "#concat_x_v=np.concatenate((x,v),axis=0) We observe ValueError in this particular line beacuse both the arrays have different dimensions"
      ]
    },
    {
      "cell_type": "markdown",
      "metadata": {
        "id": "rg3Wv3g7r6i2"
      },
      "source": [
        "#Problem - 4: Matrix Operations:\n",
        "• For the following arrays:\n",
        "A = np.array([[3,4],[7,8]]) and B = np.array([[5,3],[2,1]]);\n",
        "Prove following with Numpy:\n",
        "1. Prove A.A−1 = I.\n",
        "2. Prove AB ̸= BA.\n",
        "3. Prove (AB)\n",
        "\n",
        "T = BTAT\n",
        ".\n",
        "\n",
        "• Solve the following system of Linear equation using Inverse Methods.\n",
        "\n",
        "2x − 3y + z = −1\n",
        "x − y + 2z = −3\n",
        "3x + y − z = 9\n",
        "\n",
        "{Hint: First use Numpy array to represent the equation in Matrix form. Then Solve for: AX = B}\n",
        "• Now: solve the above equation using np.linalg.inv function.{Explore more about ”linalg” function\n",
        "of Numpy}"
      ]
    },
    {
      "cell_type": "code",
      "execution_count": null,
      "metadata": {
        "colab": {
          "base_uri": "https://localhost:8080/"
        },
        "id": "Ntw1U4lxi3YQ",
        "outputId": "e0f143df-107c-4fa8-ed3e-1073805af84d"
      },
      "outputs": [
        {
          "name": "stdout",
          "output_type": "stream",
          "text": [
            "A.A-1=  [[1.00000000e+00 0.00000000e+00]\n",
            " [1.77635684e-15 1.00000000e+00]]\n",
            "Identity matrix=  [[1. 0.]\n",
            " [0. 1.]]\n",
            "Comparing the results, the elements in A.A-1 are equal or close to equal with the identity matrix. Therefore, A.A-1=I\n",
            "AB=  [[23 13]\n",
            " [51 29]]\n",
            "BA=  [[36 44]\n",
            " [13 16]]\n",
            "This proves the matrix multiplication is not commutative. Therefore, AB ̸= BA.\n",
            "The transverse of AB=  [[23 51]\n",
            " [13 29]]\n",
            "BT.AT=  [[23 51]\n",
            " [13 29]]\n",
            "From the obtained results, we can observe that (AB)T=BT.AT\n",
            "The value of X=  [ 2.  1. -2.]\n"
          ]
        }
      ],
      "source": [
        "import numpy as np\n",
        "\n",
        "#Provided Arrays\n",
        "A = np.array([[3,4],[7,8]])\n",
        "B = np.array([[5,3],[2,1]])\n",
        "#Finding inverse of A\n",
        "A_inverse=np.linalg.inv(A)\n",
        "\n",
        "#1.\n",
        "#Calculating A.A-1\n",
        "A_and_Ainverse=np.dot(A,A_inverse)\n",
        "print(\"A.A-1= \",A_and_Ainverse)\n",
        "\n",
        "#Finding identity matrix\n",
        "identity_matrix=np.eye(2,2)\n",
        "print(\"Identity matrix= \",identity_matrix)\n",
        "\n",
        "if(np.allclose(A_and_Ainverse,identity_matrix)):\n",
        "  print(\"Comparing the results, the elements in A.A-1 are equal or close to equal with the identity matrix. Therefore, A.A-1=I\")\n",
        "else:\n",
        "  print(\"A.A-1 ̸= I\")\n",
        "\n",
        "#2.\n",
        "#Calculating AB\n",
        "AB=np.matmul(A,B)\n",
        "print(\"AB= \",AB)\n",
        "#Calculating BA\n",
        "BA=np.matmul(B,A)\n",
        "print(\"BA= \",BA)\n",
        "if(np.array_equal(AB,BA)):\n",
        "  print(\"The result obtained by observing AB and BA is that AB=BA\")\n",
        "else:\n",
        "  print(\"This proves the matrix multiplication is not commutative. Therefore, AB ̸= BA.\")\n",
        "\n",
        "#3.\n",
        "#Calculating transverse of AB\n",
        "AB_transverse=AB.T\n",
        "print(\"The transverse of AB= \",AB_transverse)\n",
        "#Calculating Transverse of B and A and multiplying them\n",
        "A_transverse=A.T\n",
        "B_transverse=B.T\n",
        "Btransverse_Atransverse=np.matmul(B_transverse,A_transverse)\n",
        "print(\"BT.AT= \",Btransverse_Atransverse)\n",
        "if(np.array_equal(AB_transverse,Btransverse_Atransverse)):\n",
        "  print(\"From the obtained results, we can observe that (AB)T=BT.AT\")\n",
        "else:\n",
        "  print(\"From the obtained results, we can observe that (AB)T ̸= BT.AT\")\n",
        "\n",
        "#4.\n",
        "A=np.array([[2,-3,1],[1,-1,2],[3,1,-1]])\n",
        "B=np.array([-1,-3,9])\n",
        "#Calculating inverse of A\n",
        "A_inverse=np.linalg.inv(A)\n",
        "#Multiplying the inverse with B\n",
        "A_inverse_and_B=np.matmul(A_inverse,B)\n",
        "print(\"The value of X= \",A_inverse_and_B)\n"
      ]
    },
    {
      "cell_type": "markdown",
      "metadata": {
        "id": "WrxMxkvz0lh0"
      },
      "source": [
        "#4.2 Experiment: How Fast is Numpy?\n",
        "In this exercise, you will compare the performance and implementation of operations using plain Python\n",
        "lists (arrays) and NumPy arrays. Follow the instructions:\n",
        "1. Element-wise Addition:\n",
        "• Using Python Lists, perform element-wise addition of two lists of size 1, 000, 000. Measure\n",
        "and Print the time taken for this operation.\n",
        "• Using Numpy Arrays, Repeat the calculation and measure and print the time taken for this\n",
        "operation.\n",
        "2. Element-wise Multiplication\n",
        "\n",
        "• Using Python Lists, perform element-wise multiplication of two lists of size 1, 000, 000. Mea-\n",
        "sure and Print the time taken for this operation.\n",
        "\n",
        "• Using Numpy Arrays, Repeat the calculation and measure and print the time taken for this\n",
        "operation.\n",
        "3. Dot Product\n",
        "• Using Python Lists, compute the dot product of two lists of size 1, 000, 000. Measure and\n",
        "Print the time taken for this operation.\n",
        "• Using Numpy Arrays, Repeat the calculation and measure and print the time taken for this\n",
        "operation.\n",
        "4. Matrix Multiplication\n",
        "• Using Python lists, perform matrix multiplication of two matrices of size 1000x1000. Measure\n",
        "and print the time taken for this operation.\n",
        "\n",
        "• Using NumPy arrays, perform matrix multiplication of two matrices of size 1000x1000. Mea-\n",
        "sure and print the time taken for this operation."
      ]
    },
    {
      "cell_type": "code",
      "execution_count": 4,
      "metadata": {
        "colab": {
          "base_uri": "https://localhost:8080/"
        },
        "id": "EtxZsv3DtTnY",
        "outputId": "c00717b5-8d20-45a2-d530-4df8f6cdd9b7"
      },
      "outputs": [
        {
          "output_type": "stream",
          "name": "stdout",
          "text": [
            "Pure Python addition:31.850219 seconds per loop\n",
            "Numpy addition:0.106566 seconds per loop\n",
            "Pure Python multiplication:31.460400 seconds per loop\n",
            "Numpy multiplication:0.116472 seconds per loop\n",
            "Pure Python dot product:33.634967 seconds per loop\n",
            "Numpy dot product:0.085685 seconds per loop\n",
            "Pure Python matrix multiplication: 53.124960 seconds per loop\n",
            "NumPy matrix multiplication: 0.247118 seconds per loop\n"
          ]
        }
      ],
      "source": [
        "import numpy as np\n",
        "import random\n",
        "from timeit import timeit\n",
        "#Generating a larger random sample data\n",
        "size=1000000\n",
        "#Python lists\n",
        "Z1_list=random.sample(range(size+1),size)\n",
        "Z2_list=random.sample(range(size+1),size)\n",
        "#Numpy arrays\n",
        "Z1_arr=np.array(Z1_list)\n",
        "Z2_arr=np.array(Z2_list)\n",
        "\n",
        "#1. Element-wise addition\n",
        "def add_python(a,b):\n",
        "  return [A+B for A,B in zip(a,b)]\n",
        "def add_numpy(a,b):\n",
        "  return np.add(a,b)\n",
        "#Calculating the execution of each function\n",
        "python_addtime = timeit(\"add_python(Z1_list,Z2_list)\", globals=globals(), number=100)\n",
        "numpy_addtime = timeit(\"add_numpy (Z1_arr,Z2_arr)\", globals=globals(), number=100)\n",
        "print(f\"Pure Python addition:{python_addtime:.6f} seconds per loop\")\n",
        "print(f\"Numpy addition:{numpy_addtime:.6f} seconds per loop\")\n",
        "\n",
        "#2. Element-wise multiplication\n",
        "def multiply_python(a,b):\n",
        "  return [A*B for A,B in zip(a,b)]\n",
        "def multiply_numpy(a,b):\n",
        "  return a*b\n",
        "#Calculating the execution of each function\n",
        "python_multiplytime = timeit(\"multiply_python(Z1_list,Z2_list)\", globals=globals(), number=100)\n",
        "numpy_multiplytime = timeit(\"multiply_numpy (Z1_arr,Z2_arr)\", globals=globals(), number=100)\n",
        "print(f\"Pure Python multiplication:{python_multiplytime:.6f} seconds per loop\")\n",
        "print(f\"Numpy multiplication:{numpy_multiplytime:.6f} seconds per loop\")\n",
        "\n",
        "#3.Dot product\n",
        "def dot_python(a,b):\n",
        "  return sum([A*B for A,B in zip(a,b)])\n",
        "def dot_numpy(a,b):\n",
        "  return np.dot(a,b)\n",
        "#Calculating the execution of each function\n",
        "python_dottime = timeit(\"dot_python(Z1_list,Z2_list)\", globals=globals(), number=100)\n",
        "numpy_dottime = timeit(\"dot_numpy(Z1_arr,Z2_arr)\", globals=globals(), number=100)\n",
        "print(f\"Pure Python dot product:{python_dottime:.6f} seconds per loop\")\n",
        "print(f\"Numpy dot product:{numpy_dottime:.6f} seconds per loop\")\n",
        "\n",
        "\n",
        "# 4. Matrix Multiplication\n",
        "# Reshape into 2D arrays (e.g., 300 x 300 matrices)\n",
        "matrix_size =300 # Adjust as needed\n",
        "Z1_matrix_list = [Z1_list[i:i + matrix_size] for i in range(0, matrix_size ** 2, matrix_size)]\n",
        "Z2_matrix_list = [Z2_list[i:i + matrix_size] for i in range(0, matrix_size ** 2, matrix_size)]\n",
        "\n",
        "Z1_matrix_arr = np.array(Z1_matrix_list)\n",
        "Z2_matrix_arr = np.array(Z2_matrix_list)\n",
        "\n",
        "def matrix_python(a, b):\n",
        "    return [\n",
        "        [sum(A * B for A, B in zip(row_a, col_b)) for col_b in zip(*b)]\n",
        "        for row_a in a\n",
        "    ]\n",
        "\n",
        "def matrix_numpy(a, b):\n",
        "    return np.matmul(a, b)\n",
        "\n",
        "# Calculating the execution of each function\n",
        "python_matrix_time = timeit(\"matrix_python(Z1_matrix_list, Z2_matrix_list)\", globals=globals(), number=10)\n",
        "numpy_matrix_time = timeit(\"matrix_numpy(Z1_matrix_arr, Z2_matrix_arr)\", globals=globals(), number=10)\n",
        "\n",
        "print(f\"Pure Python matrix multiplication: {python_matrix_time:.6f} seconds per loop\")\n",
        "print(f\"NumPy matrix multiplication: {numpy_matrix_time:.6f} seconds per loop\")"
      ]
    },
    {
      "cell_type": "code",
      "source": [],
      "metadata": {
        "id": "3jeZN8FQpFzA"
      },
      "execution_count": null,
      "outputs": []
    },
    {
      "cell_type": "code",
      "execution_count": null,
      "metadata": {
        "id": "Bt43icHR6Xr7"
      },
      "outputs": [],
      "source": []
    }
  ],
  "metadata": {
    "colab": {
      "provenance": []
    },
    "kernelspec": {
      "display_name": "Python 3",
      "name": "python3"
    },
    "language_info": {
      "name": "python"
    }
  },
  "nbformat": 4,
  "nbformat_minor": 0
}